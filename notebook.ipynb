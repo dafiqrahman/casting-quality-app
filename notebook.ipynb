{
 "cells": [
  {
   "cell_type": "code",
   "execution_count": null,
   "metadata": {},
   "outputs": [],
   "source": [
    "import tensorflow as tf\n",
    "import numpy as np"
   ]
  },
  {
   "cell_type": "code",
   "execution_count": 2,
   "metadata": {},
   "outputs": [
    {
     "name": "stderr",
     "output_type": "stream",
     "text": [
      "WARNING:absl:Compiled the loaded model, but the compiled metrics have yet to be built. `model.compile_metrics` will be empty until you train or evaluate the model.\n"
     ]
    }
   ],
   "source": [
    "model = tf.keras.models.load_model('model.h5')"
   ]
  },
  {
   "cell_type": "code",
   "execution_count": null,
   "metadata": {},
   "outputs": [],
   "source": []
  },
  {
   "cell_type": "code",
   "execution_count": 6,
   "metadata": {},
   "outputs": [
    {
     "name": "stdout",
     "output_type": "stream",
     "text": [
      "tf.Tensor(\n",
      "[[[[143.07143 143.07143 143.07143]\n",
      "   [140.92857 140.92857 140.92857]\n",
      "   [137.42857 137.42857 137.42857]\n",
      "   ...\n",
      "   [154.21426 154.21426 154.21426]\n",
      "   [147.14288 147.14288 147.14288]\n",
      "   [150.64282 150.64282 150.64282]]\n",
      "\n",
      "  [[143.07143 143.07143 143.07143]\n",
      "   [140.92857 140.92857 140.92857]\n",
      "   [137.42857 137.42857 137.42857]\n",
      "   ...\n",
      "   [154.21426 154.21426 154.21426]\n",
      "   [147.14288 147.14288 147.14288]\n",
      "   [150.64282 150.64282 150.64282]]\n",
      "\n",
      "  [[143.07143 143.07143 143.07143]\n",
      "   [140.92857 140.92857 140.92857]\n",
      "   [137.42857 137.42857 137.42857]\n",
      "   ...\n",
      "   [154.21426 154.21426 154.21426]\n",
      "   [147.14288 147.14288 147.14288]\n",
      "   [150.64282 150.64282 150.64282]]\n",
      "\n",
      "  ...\n",
      "\n",
      "  [[166.07143 166.07143 166.07143]\n",
      "   [166.78572 166.78572 166.78572]\n",
      "   [168.42857 168.42857 168.42857]\n",
      "   ...\n",
      "   [174.21426 174.21426 174.21426]\n",
      "   [176.21432 176.21432 176.21432]\n",
      "   [171.49976 171.49976 171.49976]]\n",
      "\n",
      "  [[166.07143 166.07143 166.07143]\n",
      "   [166.78572 166.78572 166.78572]\n",
      "   [168.42857 168.42857 168.42857]\n",
      "   ...\n",
      "   [174.21426 174.21426 174.21426]\n",
      "   [176.21432 176.21432 176.21432]\n",
      "   [171.49976 171.49976 171.49976]]\n",
      "\n",
      "  [[166.07143 166.07143 166.07143]\n",
      "   [166.78572 166.78572 166.78572]\n",
      "   [168.42857 168.42857 168.42857]\n",
      "   ...\n",
      "   [174.21426 174.21426 174.21426]\n",
      "   [176.21432 176.21432 176.21432]\n",
      "   [171.49976 171.49976 171.49976]]]], shape=(1, 224, 224, 3), dtype=float32)\n",
      "\u001b[1m1/1\u001b[0m \u001b[32m━━━━━━━━━━━━━━━━━━━━\u001b[0m\u001b[37m\u001b[0m \u001b[1m0s\u001b[0m 27ms/step\n"
     ]
    },
    {
     "data": {
      "text/plain": [
       "array([[0.]], dtype=float32)"
      ]
     },
     "execution_count": 6,
     "metadata": {},
     "output_type": "execute_result"
    }
   ],
   "source": [
    "img = tf.keras.utils.load_img(\"cast_ok_0_196.jpeg\")\n",
    "img = tf.keras.utils.img_to_array(img)\n",
    "img = tf.image.resize(img, [224, 224])\n",
    "img = tf.expand_dims(img, axis=0)\n",
    "print(img)\n",
    "np.round(model.predict(img))"
   ]
  }
 ],
 "metadata": {
  "kernelspec": {
   "display_name": "gui-thesis",
   "language": "python",
   "name": "python3"
  },
  "language_info": {
   "codemirror_mode": {
    "name": "ipython",
    "version": 3
   },
   "file_extension": ".py",
   "mimetype": "text/x-python",
   "name": "python",
   "nbconvert_exporter": "python",
   "pygments_lexer": "ipython3",
   "version": "3.10.16"
  }
 },
 "nbformat": 4,
 "nbformat_minor": 2
}
